{
 "cells": [
  {
   "cell_type": "code",
   "execution_count": 148,
   "metadata": {},
   "outputs": [],
   "source": [
    "import requests\n",
    "from tabulate import tabulate\n",
    "import json\n",
    "import requests\n",
    "# from dotenv import load_dotenv\n",
    "# import os\n",
    "# load_dotenv()\n",
    "# auth = (os.environ.get('user'), os.environ.get('key'))\n",
    "# from credentials import getAuth\n",
    "# headers = {\n",
    "#     \"Authorization\": \"Bearer \" + \"FlPlOcqgk6aY37ENFxSeC97cOlNh78pn4zUgyAgC\",\n",
    "#     \"Content-type\": \"application/json\"\n",
    "# }\n",
    "user = \"tsplup6kl6\"\n",
    "key = \"VaSk2hi8zPat1Xp7U2lNW7VbiHxK5BEb3s1KEc36\""
   ]
  },
  {
   "cell_type": "code",
   "execution_count": 149,
   "metadata": {},
   "outputs": [
    {
     "data": {
      "text/plain": [
       "{'message': 'Welcome to the Matchr'}"
      ]
     },
     "execution_count": 149,
     "metadata": {},
     "output_type": "execute_result"
    }
   ],
   "source": [
    "url = \"http://localhost:8000/\"\n",
    "# url = \"http://0.0.0.0:8000/\"\n",
    "\n",
    "\n",
    "# auth = (user, key)\n",
    "# headers = {\n",
    "#     \"X-Amz-Key\": key\n",
    "# }\n",
    "# headers = {\n",
    "#     \"Authorization\": \"Bearer=\" + key\n",
    "# }\n",
    "# headers = {\n",
    "#     \"authorizationToken\": key\n",
    "# }\n",
    "requests.get(url).json()"
   ]
  },
  {
   "cell_type": "markdown",
   "metadata": {},
   "source": [
    "Matching bigs and littles"
   ]
  },
  {
   "cell_type": "code",
   "execution_count": 150,
   "metadata": {},
   "outputs": [
    {
     "name": "stdout",
     "output_type": "stream",
     "text": [
      "╒═══════════╤═════════════════╕\n",
      "│ LITTLES   │ BIGS            │\n",
      "╞═══════════╪═════════════════╡\n",
      "│ Nate K    │ Zach Y, Cesar A │\n",
      "├───────────┼─────────────────┤\n",
      "│ Nate R    │ Andy B          │\n",
      "├───────────┼─────────────────┤\n",
      "│ Colin F   │ Jacob B         │\n",
      "├───────────┼─────────────────┤\n",
      "│ Jameson T │ Sam P           │\n",
      "├───────────┼─────────────────┤\n",
      "│ Robert J  │ Ben K           │\n",
      "╘═══════════╧═════════════════╛\n"
     ]
    }
   ],
   "source": [
    "r = requests.post(url+\"big_little_file_match/True\", files={\"littlefile\": open(\"resources/sampleinput/web_sample_littles.txt\", \"rb\"), \"bigfile\": open(\"resources/sampleinput/web_sample_bigs.txt\", \"rb\")}).json()\n",
    "result = r[\"result\"]\n",
    "headers = r[\"headers\"]\n",
    "print(tabulate(result, headers=headers, tablefmt=\"fancy_grid\"))"
   ]
  },
  {
   "cell_type": "code",
   "execution_count": 151,
   "metadata": {},
   "outputs": [
    {
     "name": "stdout",
     "output_type": "stream",
     "text": [
      "╒═══╕\n",
      "│ E │\n",
      "├───┤\n",
      "│ r │\n",
      "├───┤\n",
      "│ r │\n",
      "├───┤\n",
      "│ o │\n",
      "├───┤\n",
      "│ r │\n",
      "├───┤\n",
      "│ : │\n",
      "├───┤\n",
      "│   │\n",
      "├───┤\n",
      "│ C │\n",
      "├───┤\n",
      "│ o │\n",
      "├───┤\n",
      "│ l │\n",
      "├───┤\n",
      "│ i │\n",
      "├───┤\n",
      "│ n │\n",
      "├───┤\n",
      "│   │\n",
      "├───┤\n",
      "│ d │\n",
      "├───┤\n",
      "│   │\n",
      "├───┤\n",
      "│ i │\n",
      "├───┤\n",
      "│ s │\n",
      "├───┤\n",
      "│   │\n",
      "├───┤\n",
      "│ n │\n",
      "├───┤\n",
      "│ o │\n",
      "├───┤\n",
      "│ t │\n",
      "├───┤\n",
      "│   │\n",
      "├───┤\n",
      "│ a │\n",
      "├───┤\n",
      "│   │\n",
      "├───┤\n",
      "│ l │\n",
      "├───┤\n",
      "│ i │\n",
      "├───┤\n",
      "│ t │\n",
      "├───┤\n",
      "│ t │\n",
      "├───┤\n",
      "│ l │\n",
      "├───┤\n",
      "│ e │\n",
      "╘═══╛\n"
     ]
    }
   ],
   "source": [
    "r = requests.post(url+\"big_little_file_match/True\", files={\"littlefile\": open(\"resources/input/littlefile.txt\", \"rb\"), \"bigfile\": open(\"resources/input/bigfile.txt\", \"rb\")}).json()\n",
    "result = r[\"result\"]\n",
    "headers = r[\"headers\"]\n",
    "print(tabulate(result, headers=headers, tablefmt=\"fancy_grid\"))"
   ]
  },
  {
   "cell_type": "markdown",
   "metadata": {},
   "source": [
    "Matching with equal weight to both ranks"
   ]
  },
  {
   "cell_type": "code",
   "execution_count": 152,
   "metadata": {},
   "outputs": [
    {
     "ename": "JSONDecodeError",
     "evalue": "Expecting value: line 1 column 1 (char 0)",
     "output_type": "error",
     "traceback": [
      "\u001b[0;31m---------------------------------------------------------------------------\u001b[0m",
      "\u001b[0;31mJSONDecodeError\u001b[0m                           Traceback (most recent call last)",
      "File \u001b[0;32m~/.local/lib/python3.8/site-packages/requests/models.py:971\u001b[0m, in \u001b[0;36mResponse.json\u001b[0;34m(self, **kwargs)\u001b[0m\n\u001b[1;32m    970\u001b[0m \u001b[39mtry\u001b[39;00m:\n\u001b[0;32m--> 971\u001b[0m     \u001b[39mreturn\u001b[39;00m complexjson\u001b[39m.\u001b[39;49mloads(\u001b[39mself\u001b[39;49m\u001b[39m.\u001b[39;49mtext, \u001b[39m*\u001b[39;49m\u001b[39m*\u001b[39;49mkwargs)\n\u001b[1;32m    972\u001b[0m \u001b[39mexcept\u001b[39;00m JSONDecodeError \u001b[39mas\u001b[39;00m e:\n\u001b[1;32m    973\u001b[0m     \u001b[39m# Catch JSON-related errors and raise as requests.JSONDecodeError\u001b[39;00m\n\u001b[1;32m    974\u001b[0m     \u001b[39m# This aliases json.JSONDecodeError and simplejson.JSONDecodeError\u001b[39;00m\n",
      "File \u001b[0;32m/usr/lib/python3/dist-packages/simplejson/__init__.py:518\u001b[0m, in \u001b[0;36mloads\u001b[0;34m(s, encoding, cls, object_hook, parse_float, parse_int, parse_constant, object_pairs_hook, use_decimal, **kw)\u001b[0m\n\u001b[1;32m    514\u001b[0m \u001b[39mif\u001b[39;00m (\u001b[39mcls\u001b[39m \u001b[39mis\u001b[39;00m \u001b[39mNone\u001b[39;00m \u001b[39mand\u001b[39;00m encoding \u001b[39mis\u001b[39;00m \u001b[39mNone\u001b[39;00m \u001b[39mand\u001b[39;00m object_hook \u001b[39mis\u001b[39;00m \u001b[39mNone\u001b[39;00m \u001b[39mand\u001b[39;00m\n\u001b[1;32m    515\u001b[0m         parse_int \u001b[39mis\u001b[39;00m \u001b[39mNone\u001b[39;00m \u001b[39mand\u001b[39;00m parse_float \u001b[39mis\u001b[39;00m \u001b[39mNone\u001b[39;00m \u001b[39mand\u001b[39;00m\n\u001b[1;32m    516\u001b[0m         parse_constant \u001b[39mis\u001b[39;00m \u001b[39mNone\u001b[39;00m \u001b[39mand\u001b[39;00m object_pairs_hook \u001b[39mis\u001b[39;00m \u001b[39mNone\u001b[39;00m\n\u001b[1;32m    517\u001b[0m         \u001b[39mand\u001b[39;00m \u001b[39mnot\u001b[39;00m use_decimal \u001b[39mand\u001b[39;00m \u001b[39mnot\u001b[39;00m kw):\n\u001b[0;32m--> 518\u001b[0m     \u001b[39mreturn\u001b[39;00m _default_decoder\u001b[39m.\u001b[39;49mdecode(s)\n\u001b[1;32m    519\u001b[0m \u001b[39mif\u001b[39;00m \u001b[39mcls\u001b[39m \u001b[39mis\u001b[39;00m \u001b[39mNone\u001b[39;00m:\n",
      "File \u001b[0;32m/usr/lib/python3/dist-packages/simplejson/decoder.py:370\u001b[0m, in \u001b[0;36mJSONDecoder.decode\u001b[0;34m(self, s, _w, _PY3)\u001b[0m\n\u001b[1;32m    369\u001b[0m     s \u001b[39m=\u001b[39m \u001b[39mstr\u001b[39m(s, \u001b[39mself\u001b[39m\u001b[39m.\u001b[39mencoding)\n\u001b[0;32m--> 370\u001b[0m obj, end \u001b[39m=\u001b[39m \u001b[39mself\u001b[39;49m\u001b[39m.\u001b[39;49mraw_decode(s)\n\u001b[1;32m    371\u001b[0m end \u001b[39m=\u001b[39m _w(s, end)\u001b[39m.\u001b[39mend()\n",
      "File \u001b[0;32m/usr/lib/python3/dist-packages/simplejson/decoder.py:400\u001b[0m, in \u001b[0;36mJSONDecoder.raw_decode\u001b[0;34m(self, s, idx, _w, _PY3)\u001b[0m\n\u001b[1;32m    399\u001b[0m         idx \u001b[39m+\u001b[39m\u001b[39m=\u001b[39m \u001b[39m3\u001b[39m\n\u001b[0;32m--> 400\u001b[0m \u001b[39mreturn\u001b[39;00m \u001b[39mself\u001b[39;49m\u001b[39m.\u001b[39;49mscan_once(s, idx\u001b[39m=\u001b[39;49m_w(s, idx)\u001b[39m.\u001b[39;49mend())\n",
      "\u001b[0;31mJSONDecodeError\u001b[0m: Expecting value: line 1 column 1 (char 0)",
      "\nDuring handling of the above exception, another exception occurred:\n",
      "\u001b[0;31mJSONDecodeError\u001b[0m                           Traceback (most recent call last)",
      "\u001b[1;32m/home/nkimball/Projects/RankedMatching/sampleusage.ipynb Cell 7\u001b[0m in \u001b[0;36m<cell line: 1>\u001b[0;34m()\u001b[0m\n\u001b[0;32m----> <a href='vscode-notebook-cell://wsl%2Bubuntu/home/nkimball/Projects/RankedMatching/sampleusage.ipynb#W5sdnNjb2RlLXJlbW90ZQ%3D%3D?line=0'>1</a>\u001b[0m result \u001b[39m=\u001b[39m requests\u001b[39m.\u001b[39;49mpost(url\u001b[39m+\u001b[39;49m\u001b[39m\"\u001b[39;49m\u001b[39mfile_match\u001b[39;49m\u001b[39m\"\u001b[39;49m, files\u001b[39m=\u001b[39;49m{\u001b[39m\"\u001b[39;49m\u001b[39mfile1\u001b[39;49m\u001b[39m\"\u001b[39;49m: \u001b[39mopen\u001b[39;49m(\u001b[39m\"\u001b[39;49m\u001b[39mresources/input/littlefile.txt\u001b[39;49m\u001b[39m\"\u001b[39;49m, \u001b[39m\"\u001b[39;49m\u001b[39mrb\u001b[39;49m\u001b[39m\"\u001b[39;49m), \u001b[39m\"\u001b[39;49m\u001b[39mfile2\u001b[39;49m\u001b[39m\"\u001b[39;49m: \u001b[39mopen\u001b[39;49m(\u001b[39m\"\u001b[39;49m\u001b[39mresources/input/bigfile.txt\u001b[39;49m\u001b[39m\"\u001b[39;49m, \u001b[39m\"\u001b[39;49m\u001b[39mrb\u001b[39;49m\u001b[39m\"\u001b[39;49m)})\u001b[39m.\u001b[39;49mjson()\n\u001b[1;32m      <a href='vscode-notebook-cell://wsl%2Bubuntu/home/nkimball/Projects/RankedMatching/sampleusage.ipynb#W5sdnNjb2RlLXJlbW90ZQ%3D%3D?line=1'>2</a>\u001b[0m \u001b[39mprint\u001b[39m(tabulate(result, headers\u001b[39m=\u001b[39m\u001b[39m\"\u001b[39m\u001b[39mkeys\u001b[39m\u001b[39m\"\u001b[39m, tablefmt\u001b[39m=\u001b[39m\u001b[39m\"\u001b[39m\u001b[39mfancy_grid\u001b[39m\u001b[39m\"\u001b[39m))\n",
      "File \u001b[0;32m~/.local/lib/python3.8/site-packages/requests/models.py:975\u001b[0m, in \u001b[0;36mResponse.json\u001b[0;34m(self, **kwargs)\u001b[0m\n\u001b[1;32m    971\u001b[0m     \u001b[39mreturn\u001b[39;00m complexjson\u001b[39m.\u001b[39mloads(\u001b[39mself\u001b[39m\u001b[39m.\u001b[39mtext, \u001b[39m*\u001b[39m\u001b[39m*\u001b[39mkwargs)\n\u001b[1;32m    972\u001b[0m \u001b[39mexcept\u001b[39;00m JSONDecodeError \u001b[39mas\u001b[39;00m e:\n\u001b[1;32m    973\u001b[0m     \u001b[39m# Catch JSON-related errors and raise as requests.JSONDecodeError\u001b[39;00m\n\u001b[1;32m    974\u001b[0m     \u001b[39m# This aliases json.JSONDecodeError and simplejson.JSONDecodeError\u001b[39;00m\n\u001b[0;32m--> 975\u001b[0m     \u001b[39mraise\u001b[39;00m RequestsJSONDecodeError(e\u001b[39m.\u001b[39mmsg, e\u001b[39m.\u001b[39mdoc, e\u001b[39m.\u001b[39mpos)\n",
      "\u001b[0;31mJSONDecodeError\u001b[0m: Expecting value: line 1 column 1 (char 0)"
     ]
    }
   ],
   "source": [
    "result = requests.post(url+\"file_match\", files={\"file1\": open(\"resources/input/littlefile.txt\", \"rb\"), \"file2\": open(\"resources/input/bigfile.txt\", \"rb\")}).json()\n",
    "print(tabulate(result, headers=\"keys\", tablefmt=\"fancy_grid\"))"
   ]
  },
  {
   "cell_type": "markdown",
   "metadata": {},
   "source": [
    "Matching with custom weights"
   ]
  },
  {
   "cell_type": "code",
   "execution_count": null,
   "metadata": {},
   "outputs": [
    {
     "name": "stdout",
     "output_type": "stream",
     "text": [
      "╒═══════════════╤═════════════════╤═════════════════╤════════════════╤═══════════════════╤════════════════╕\n",
      "│ Zach Harris   │ Ben Ross        │ Sam Klein       │ Andy Ringold   │ Cesar Engelhard   │ Udhava Gupta   │\n",
      "╞═══════════════╪═════════════════╪═════════════════╪════════════════╪═══════════════════╪════════════════╡\n",
      "│ Nate Kimball  │ Colin Dockter   │ Jameson Sandler │ Robert         │ Zach Abraham      │ Still Yu       │\n",
      "├───────────────┼─────────────────┼─────────────────┼────────────────┼───────────────────┼────────────────┤\n",
      "│ Ethan Fox     │ Lurch Wasserman │ Nate Wellz      │ Matt Krinn     │                   │                │\n",
      "╘═══════════════╧═════════════════╧═════════════════╧════════════════╧═══════════════════╧════════════════╛\n"
     ]
    }
   ],
   "source": [
    "table = [[-5, 0,-1,-2,-3,-4],\n",
    "         [ 0,16,15,13,10, 5],\n",
    "         [-1,15,14,12, 8, 4],\n",
    "         [-2,13,12, 9, 6, 3],\n",
    "         [-3,10, 8, 6, 4, 2],\n",
    "         [-4, 5, 4, 3, 2, 1]]\n",
    "tablestr = \",\".join([\",\".join([str(x) for x in row]) for row in table])\n",
    "result = requests.post(url+\"custom_file_match/\"+tablestr+\"/\"+str(len(table))+\"/\"+str(len(table[0])), files={\"file1\": open(\"resources/input/littlefile.txt\", \"rb\"), \"file2\": open(\"resources/input/bigfile.txt\", \"rb\")}).json()\n",
    "print(tabulate(result, headers=\"keys\", tablefmt=\"fancy_grid\"))"
   ]
  }
 ],
 "metadata": {
  "kernelspec": {
   "display_name": "Python 3.8.10 64-bit",
   "language": "python",
   "name": "python3"
  },
  "language_info": {
   "codemirror_mode": {
    "name": "ipython",
    "version": 3
   },
   "file_extension": ".py",
   "mimetype": "text/x-python",
   "name": "python",
   "nbconvert_exporter": "python",
   "pygments_lexer": "ipython3",
   "version": "3.8.10"
  },
  "orig_nbformat": 4,
  "vscode": {
   "interpreter": {
    "hash": "31f2aee4e71d21fbe5cf8b01ff0e069b9275f58929596ceb00d14d90e3e16cd6"
   }
  }
 },
 "nbformat": 4,
 "nbformat_minor": 2
}
