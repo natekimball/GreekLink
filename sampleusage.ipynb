{
 "cells": [
  {
   "cell_type": "code",
   "execution_count": 79,
   "metadata": {},
   "outputs": [],
   "source": [
    "import requests\n",
    "from tabulate import tabulate\n",
    "# from dotenv import load_dotenv\n",
    "# import os\n",
    "# load_dotenv()\n",
    "# auth = (os.environ.get('user'), os.environ.get('key'))\n",
    "# from credentials import getAuth\n",
    "# headers = {\n",
    "#     \"Authorization\": \"Bearer \" + \"FlPlOcqgk6aY37ENFxSeC97cOlNh78pn4zUgyAgC\",\n",
    "#     \"Content-type\": \"application/json\"\n",
    "# }\n",
    "user = \"64y26g4qjf\"\n",
    "key = \"FlPlOcqgk6aY37ENFxSeC97cOlNh78pn4zUgyAgC\""
   ]
  },
  {
   "cell_type": "code",
   "execution_count": 80,
   "metadata": {},
   "outputs": [],
   "source": [
    "# url = \"http://localhost:8000/\"\n",
    "url = \"http://0.0.0.0:7000/\"\n",
    "# url = \"https://dk71q0oecc.execute-api.us-east-1.amazonaws.com/default/RankedMatching\"\n",
    "auth = (user, key)\n",
    "# headers = {\n",
    "#     \"X-Amz-Key\": key\n",
    "# }\n",
    "headers = {\n",
    "    \"Authorization\": \"Bearer \" + key\n",
    "}"
   ]
  },
  {
   "cell_type": "markdown",
   "metadata": {},
   "source": [
    "Matching bigs and littles"
   ]
  },
  {
   "cell_type": "code",
   "execution_count": 81,
   "metadata": {},
   "outputs": [
    {
     "name": "stdout",
     "output_type": "stream",
     "text": [
      "{'headers': ['BIGS', 'LITTLES'], 'result': [['Zach Harris', 'Nate Kimball, Ethan Fox'], ['Ben Ross', 'Colin Dockter, Lurch Wasserman'], ['Sam Klein', 'Jameson Sandler, Nate Wellz'], ['Andy Ringold', 'Robert, Matt Krinn'], ['Cesar Engelhard', 'Zach Abraham'], ['Udhava Gupta', 'Still Yu']]}\n",
      "╒═════════════════╤════════════════════════════════╕\n",
      "│ BIGS            │ LITTLES                        │\n",
      "╞═════════════════╪════════════════════════════════╡\n",
      "│ Zach Harris     │ Nate Kimball, Ethan Fox        │\n",
      "├─────────────────┼────────────────────────────────┤\n",
      "│ Ben Ross        │ Colin Dockter, Lurch Wasserman │\n",
      "├─────────────────┼────────────────────────────────┤\n",
      "│ Sam Klein       │ Jameson Sandler, Nate Wellz    │\n",
      "├─────────────────┼────────────────────────────────┤\n",
      "│ Andy Ringold    │ Robert, Matt Krinn             │\n",
      "├─────────────────┼────────────────────────────────┤\n",
      "│ Cesar Engelhard │ Zach Abraham                   │\n",
      "├─────────────────┼────────────────────────────────┤\n",
      "│ Udhava Gupta    │ Still Yu                       │\n",
      "╘═════════════════╧════════════════════════════════╛\n"
     ]
    }
   ],
   "source": [
    "r = requests.post(url+\"big_little_match\", files={\"littlefile\": open(\"resources/input/littlefile.txt\", \"rb\"), \"bigfile\": open(\"resources/input/bigfile.txt\", \"rb\")}).json()\n",
    "print(r)\n",
    "result = r[\"result\"]\n",
    "headers = r[\"headers\"]\n",
    "print(tabulate(result, headers=headers, tablefmt=\"fancy_grid\"))"
   ]
  },
  {
   "cell_type": "markdown",
   "metadata": {},
   "source": [
    "Matching with equal weight to both ranks"
   ]
  },
  {
   "cell_type": "code",
   "execution_count": 82,
   "metadata": {},
   "outputs": [
    {
     "name": "stdout",
     "output_type": "stream",
     "text": [
      "╒═══════════════╤═════════════════╤═════════════════╤════════════════╤═══════════════════╤════════════════╕\n",
      "│ Zach Harris   │ Ben Ross        │ Sam Klein       │ Andy Ringold   │ Cesar Engelhard   │ Udhava Gupta   │\n",
      "╞═══════════════╪═════════════════╪═════════════════╪════════════════╪═══════════════════╪════════════════╡\n",
      "│ Nate Kimball  │ Colin Dockter   │ Jameson Sandler │ Robert         │ Zach Abraham      │ Still Yu       │\n",
      "├───────────────┼─────────────────┼─────────────────┼────────────────┼───────────────────┼────────────────┤\n",
      "│ Ethan Fox     │ Lurch Wasserman │ Nate Wellz      │ Matt Krinn     │                   │                │\n",
      "╘═══════════════╧═════════════════╧═════════════════╧════════════════╧═══════════════════╧════════════════╛\n"
     ]
    }
   ],
   "source": [
    "result = requests.post(url+\"match\", files={\"file1\": open(\"resources/input/littlefile.txt\", \"rb\"), \"file2\": open(\"resources/input/bigfile.txt\", \"rb\")}).json()\n",
    "print(tabulate(result, headers=\"keys\", tablefmt=\"fancy_grid\"))"
   ]
  },
  {
   "cell_type": "markdown",
   "metadata": {},
   "source": [
    "Matching with custom weights"
   ]
  },
  {
   "cell_type": "code",
   "execution_count": 83,
   "metadata": {},
   "outputs": [
    {
     "name": "stdout",
     "output_type": "stream",
     "text": [
      "╒═══════════════╤═════════════════╤═════════════════╤════════════════╤═══════════════════╤════════════════╕\n",
      "│ Zach Harris   │ Ben Ross        │ Sam Klein       │ Andy Ringold   │ Cesar Engelhard   │ Udhava Gupta   │\n",
      "╞═══════════════╪═════════════════╪═════════════════╪════════════════╪═══════════════════╪════════════════╡\n",
      "│ Nate Kimball  │ Colin Dockter   │ Jameson Sandler │ Robert         │ Zach Abraham      │ Still Yu       │\n",
      "├───────────────┼─────────────────┼─────────────────┼────────────────┼───────────────────┼────────────────┤\n",
      "│ Ethan Fox     │ Lurch Wasserman │ Nate Wellz      │ Matt Krinn     │                   │                │\n",
      "╘═══════════════╧═════════════════╧═════════════════╧════════════════╧═══════════════════╧════════════════╛\n"
     ]
    }
   ],
   "source": [
    "table = [[-5, 0,-1,-2,-3,-4],\n",
    "         [ 0,16,15,13,10, 5],\n",
    "         [-1,15,14,12, 8, 4],\n",
    "         [-2,13,12, 9, 6, 3],\n",
    "         [-3,10, 8, 6, 4, 2],\n",
    "         [-4, 5, 4, 3, 2, 1]]\n",
    "tablestr = \",\".join([\",\".join([str(x) for x in row]) for row in table])\n",
    "result = requests.post(url+\"custom_match/\"+tablestr+\"/\"+str(len(table))+\"/\"+str(len(table[0])), files={\"file1\": open(\"resources/input/littlefile.txt\", \"rb\"), \"file2\": open(\"resources/input/bigfile.txt\", \"rb\")}).json()\n",
    "print(tabulate(result, headers=\"keys\", tablefmt=\"fancy_grid\"))"
   ]
  }
 ],
 "metadata": {
  "kernelspec": {
   "display_name": "Python 3.8.10 64-bit",
   "language": "python",
   "name": "python3"
  },
  "language_info": {
   "codemirror_mode": {
    "name": "ipython",
    "version": 3
   },
   "file_extension": ".py",
   "mimetype": "text/x-python",
   "name": "python",
   "nbconvert_exporter": "python",
   "pygments_lexer": "ipython3",
   "version": "3.8.10"
  },
  "orig_nbformat": 4,
  "vscode": {
   "interpreter": {
    "hash": "31f2aee4e71d21fbe5cf8b01ff0e069b9275f58929596ceb00d14d90e3e16cd6"
   }
  }
 },
 "nbformat": 4,
 "nbformat_minor": 2
}
