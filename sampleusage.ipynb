{
 "cells": [
  {
   "cell_type": "code",
   "execution_count": 3,
   "metadata": {},
   "outputs": [],
   "source": [
    "import requests\n",
    "from tabulate import tabulate\n",
    "import json\n",
    "import requests\n",
    "# from dotenv import load_dotenv\n",
    "# import os\n",
    "# load_dotenv()\n",
    "# auth = (os.environ.get('user'), os.environ.get('key'))\n",
    "# from credentials import getAuth\n",
    "# headers = {\n",
    "#     \"Authorization\": \"Bearer \" + \"FlPlOcqgk6aY37ENFxSeC97cOlNh78pn4zUgyAgC\",\n",
    "#     \"Content-type\": \"application/json\"\n",
    "# }\n",
    "user = \"tsplup6kl6\"\n",
    "key = \"VaSk2hi8zPat1Xp7U2lNW7VbiHxK5BEb3s1KEc36\""
   ]
  },
  {
   "cell_type": "code",
   "execution_count": 4,
   "metadata": {},
   "outputs": [
    {
     "data": {
      "text/plain": [
       "{'message': 'Welcome to the Matchr'}"
      ]
     },
     "execution_count": 4,
     "metadata": {},
     "output_type": "execute_result"
    }
   ],
   "source": [
    "url = \"http://localhost:8000/\"\n",
    "# url = \"http://0.0.0.0:8000/\"\n",
    "\n",
    "\n",
    "# auth = (user, key)\n",
    "# headers = {\n",
    "#     \"X-Amz-Key\": key\n",
    "# }\n",
    "# headers = {\n",
    "#     \"Authorization\": \"Bearer=\" + key\n",
    "# }\n",
    "# headers = {\n",
    "#     \"authorizationToken\": key\n",
    "# }\n",
    "requests.get(url).json()"
   ]
  },
  {
   "cell_type": "markdown",
   "metadata": {},
   "source": [
    "Matching bigs and littles"
   ]
  },
  {
   "cell_type": "code",
   "execution_count": 5,
   "metadata": {},
   "outputs": [
    {
     "name": "stdout",
     "output_type": "stream",
     "text": [
      "╒═══════════╤═════════════════╕\n",
      "│ LITTLES   │ BIGS            │\n",
      "╞═══════════╪═════════════════╡\n",
      "│ Nate K    │ Zach Y, Cesar A │\n",
      "├───────────┼─────────────────┤\n",
      "│ Nate R    │ Andy B          │\n",
      "├───────────┼─────────────────┤\n",
      "│ Colin F   │ Jacob B         │\n",
      "├───────────┼─────────────────┤\n",
      "│ Jameson T │ Sam P           │\n",
      "├───────────┼─────────────────┤\n",
      "│ Robert J  │ Ben K           │\n",
      "╘═══════════╧═════════════════╛\n"
     ]
    }
   ],
   "source": [
    "r = requests.post(url+\"big_little_file_match/True\", files={\"littlefile\": open(\"resources/sampleinput/web_sample_littles.txt\", \"rb\"), \"bigfile\": open(\"resources/sampleinput/web_sample_bigs.txt\", \"rb\")}).json()\n",
    "result = r[\"result\"]\n",
    "headers = r[\"headers\"]\n",
    "print(tabulate(result, headers=headers, tablefmt=\"fancy_grid\"))"
   ]
  },
  {
   "cell_type": "code",
   "execution_count": 6,
   "metadata": {},
   "outputs": [
    {
     "name": "stdout",
     "output_type": "stream",
     "text": [
      "╒═════════════════╤════════════════════════════════╕\n",
      "│ BIGS            │ LITTLES                        │\n",
      "╞═════════════════╪════════════════════════════════╡\n",
      "│ Zach Harris     │ Nate Kimball, Ethan Fox        │\n",
      "├─────────────────┼────────────────────────────────┤\n",
      "│ Ben Ross        │ Colin Dockter, Lurch Wasserman │\n",
      "├─────────────────┼────────────────────────────────┤\n",
      "│ Sam Klein       │ Jameson Sandler, Nate Wellz    │\n",
      "├─────────────────┼────────────────────────────────┤\n",
      "│ Andy Ringold    │ Robert, Matt Krinn             │\n",
      "├─────────────────┼────────────────────────────────┤\n",
      "│ Cesar Engelhard │ Zach Abraham                   │\n",
      "├─────────────────┼────────────────────────────────┤\n",
      "│ Udhava Gupta    │ Still Yu                       │\n",
      "╘═════════════════╧════════════════════════════════╛\n"
     ]
    }
   ],
   "source": [
    "r = requests.post(url+\"big_little_file_match/True\", files={\"littlefile\": open(\"resources/input/littlefile.txt\", \"rb\"), \"bigfile\": open(\"resources/input/bigfile.txt\", \"rb\")}).json()\n",
    "result = r[\"result\"]\n",
    "headers = r[\"headers\"]\n",
    "print(tabulate(result, headers=headers, tablefmt=\"fancy_grid\"))"
   ]
  },
  {
   "cell_type": "markdown",
   "metadata": {},
   "source": [
    "Matching with equal weight to both ranks"
   ]
  },
  {
   "cell_type": "code",
   "execution_count": 7,
   "metadata": {},
   "outputs": [
    {
     "name": "stdout",
     "output_type": "stream",
     "text": [
      "╒═══════════════╤═════════════════╤═════════════════╤════════════════╤═══════════════════╤════════════════╕\n",
      "│ Zach Harris   │ Ben Ross        │ Sam Klein       │ Andy Ringold   │ Cesar Engelhard   │ Udhava Gupta   │\n",
      "╞═══════════════╪═════════════════╪═════════════════╪════════════════╪═══════════════════╪════════════════╡\n",
      "│ Nate Kimball  │ Colin Dockter   │ Jameson Sandler │ Robert         │ Zach Abraham      │ Still Yu       │\n",
      "├───────────────┼─────────────────┼─────────────────┼────────────────┼───────────────────┼────────────────┤\n",
      "│ Ethan Fox     │ Lurch Wasserman │ Nate Wellz      │ Matt Krinn     │                   │                │\n",
      "╘═══════════════╧═════════════════╧═════════════════╧════════════════╧═══════════════════╧════════════════╛\n"
     ]
    }
   ],
   "source": [
    "result = requests.post(url+\"file_match\", files={\"file1\": open(\"resources/input/littlefile.txt\", \"rb\"), \"file2\": open(\"resources/input/bigfile.txt\", \"rb\")}).json()\n",
    "print(tabulate(result, headers=\"keys\", tablefmt=\"fancy_grid\"))"
   ]
  },
  {
   "cell_type": "markdown",
   "metadata": {},
   "source": [
    "Matching with custom weights"
   ]
  },
  {
   "cell_type": "code",
   "execution_count": 8,
   "metadata": {},
   "outputs": [
    {
     "name": "stdout",
     "output_type": "stream",
     "text": [
      "╒═══════════════╤═════════════════╤═════════════════╤════════════════╤═══════════════════╤════════════════╕\n",
      "│ Zach Harris   │ Ben Ross        │ Sam Klein       │ Andy Ringold   │ Cesar Engelhard   │ Udhava Gupta   │\n",
      "╞═══════════════╪═════════════════╪═════════════════╪════════════════╪═══════════════════╪════════════════╡\n",
      "│ Nate Kimball  │ Colin Dockter   │ Jameson Sandler │ Robert         │ Zach Abraham      │ Still Yu       │\n",
      "├───────────────┼─────────────────┼─────────────────┼────────────────┼───────────────────┼────────────────┤\n",
      "│ Ethan Fox     │ Lurch Wasserman │ Nate Wellz      │ Matt Krinn     │                   │                │\n",
      "╘═══════════════╧═════════════════╧═════════════════╧════════════════╧═══════════════════╧════════════════╛\n"
     ]
    }
   ],
   "source": [
    "table = [[-5, 0,-1,-2,-3,-4],\n",
    "         [ 0,16,15,13,10, 5],\n",
    "         [-1,15,14,12, 8, 4],\n",
    "         [-2,13,12, 9, 6, 3],\n",
    "         [-3,10, 8, 6, 4, 2],\n",
    "         [-4, 5, 4, 3, 2, 1]]\n",
    "tablestr = \",\".join([\",\".join([str(x) for x in row]) for row in table])\n",
    "result = requests.post(url+\"custom_file_match/\"+tablestr+\"/\"+str(len(table))+\"/\"+str(len(table[0])), files={\"file1\": open(\"resources/input/littlefile.txt\", \"rb\"), \"file2\": open(\"resources/input/bigfile.txt\", \"rb\")}).json()\n",
    "print(tabulate(result, headers=\"keys\", tablefmt=\"fancy_grid\"))"
   ]
  }
 ],
 "metadata": {
  "kernelspec": {
   "display_name": "Python 3.8.10 64-bit",
   "language": "python",
   "name": "python3"
  },
  "language_info": {
   "codemirror_mode": {
    "name": "ipython",
    "version": 3
   },
   "file_extension": ".py",
   "mimetype": "text/x-python",
   "name": "python",
   "nbconvert_exporter": "python",
   "pygments_lexer": "ipython3",
   "version": "3.8.10 (default, Nov 14 2022, 12:59:47) \n[GCC 9.4.0]"
  },
  "orig_nbformat": 4,
  "vscode": {
   "interpreter": {
    "hash": "31f2aee4e71d21fbe5cf8b01ff0e069b9275f58929596ceb00d14d90e3e16cd6"
   }
  }
 },
 "nbformat": 4,
 "nbformat_minor": 2
}
