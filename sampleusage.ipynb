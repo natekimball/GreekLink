{
 "cells": [
  {
   "cell_type": "code",
   "execution_count": 25,
   "metadata": {},
   "outputs": [
    {
     "name": "stdout",
     "output_type": "stream",
     "text": [
      "╒═════════════════╤════════════════════════════════╕\n",
      "│ BIGS            │ LITTLES                        │\n",
      "╞═════════════════╪════════════════════════════════╡\n",
      "│ Zach Harris     │ Nate Kimball, Ethan Fox        │\n",
      "├─────────────────┼────────────────────────────────┤\n",
      "│ Ben Ross        │ Colin Dockter, Lurch Wasserman │\n",
      "├─────────────────┼────────────────────────────────┤\n",
      "│ Sam Klein       │ Jameson Sandler, Nate Wellz    │\n",
      "├─────────────────┼────────────────────────────────┤\n",
      "│ Andy Ringold    │ Zach Abraham, Matt Krinn       │\n",
      "├─────────────────┼────────────────────────────────┤\n",
      "│ Cesar Engelhard │ Robert                         │\n",
      "├─────────────────┼────────────────────────────────┤\n",
      "│ Udhava Gupta    │ Still Yu                       │\n",
      "╘═════════════════╧════════════════════════════════╛\n"
     ]
    }
   ],
   "source": [
    "import requests\n",
    "from tabulate import tabulate\n",
    "r = requests.post(\"http://0.0.0.0:7000/matchbiglittles\", files={\"littlefile\": open(\"resources/input/littlefile.txt\", \"rb\"), \"bigfile\": open(\"resources/input/bigfile.txt\", \"rb\")}).json()\n",
    "result = r[\"result\"]\n",
    "headers = r[\"headers\"]\n",
    "print(tabulate(result, headers=headers, tablefmt=\"fancy_grid\"))"
   ]
  }
 ],
 "metadata": {
  "kernelspec": {
   "display_name": "Python 3.8.10 64-bit",
   "language": "python",
   "name": "python3"
  },
  "language_info": {
   "codemirror_mode": {
    "name": "ipython",
    "version": 3
   },
   "file_extension": ".py",
   "mimetype": "text/x-python",
   "name": "python",
   "nbconvert_exporter": "python",
   "pygments_lexer": "ipython3",
   "version": "3.8.10"
  },
  "orig_nbformat": 4,
  "vscode": {
   "interpreter": {
    "hash": "31f2aee4e71d21fbe5cf8b01ff0e069b9275f58929596ceb00d14d90e3e16cd6"
   }
  }
 },
 "nbformat": 4,
 "nbformat_minor": 2
}
